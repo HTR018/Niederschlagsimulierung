{
 "cells": [
  {
   "cell_type": "markdown",
   "id": "1d68bfd7",
   "metadata": {},
   "source": [
    "# Comparison of streamflow modelling of choosen citites between a standard Long Short-Term Memory Network (LSTM) and a combined Convolutional Neuronal Network with Long Short-Term Memory Network (CNNLSTM)\n",
    "\n",
    "### This notebooks reproduces the results related to the abstract \"Vorhersage von Zeitreihen durch Nutzung von Machine Learning-Ansätzen am Beispiel einer Niederschlagabflussmodellierug\"\n",
    "\n",
    "### Polat, Kadir and Salhi, Hamza: \"Vorhersage von Zeitreihen durch Nutzung von Machine Learning-Ansätzen am Beispiel einer Niederschlagabflussmodellierug\""
   ]
  },
  {
   "cell_type": "markdown",
   "id": "5bed3939",
   "metadata": {},
   "source": [
    "# Get Started\n",
    "### To run the code without any problems consider following steps\n",
    "\n",
    "### 1) Create an environment to install the packages definded in requirements.txt. It's on you whether you create the environment with conda or Venv.\n",
    "\n",
    "### 2) Download the Camels-US Dataset and Daymet-US Dataset to predict a defined basin. To downlaod teh data see following webpages: Camels US Dataset: https://ral.ucar.edu/solutions/products/camels and Daymet US Dataset: https://daac.ornl.gov/cgi-bin/dsviewer.pl?ds_id=1840 \n",
    "\n",
    "### 3) Copy the Daymet dataset to a folder named 'data_daymet' and the Camels dataset to a folder named 'data'. For Camels dataset streamflow and dataset of each basin can be copied directly to the folder. For the daymet dataset only streamflow can be copied directly to the folder. For each basin an additional folder shoul be created in which the dataset can be copied. "
   ]
  },
  {
   "cell_type": "markdown",
   "id": "f4706b7b",
   "metadata": {},
   "source": [
    "# Project structure\n",
    "\n",
    "### ./data: whole camels dataset for all basins is in this folder streamflow dataset included\n",
    "\n",
    "### ./data_daymet: whole daymet dataset for all basins is in this folder streamflow dataset is included. Each basin is saved in a separeted folder. For example: ./data/9494000: with the specific number of Mesa\n",
    "\n",
    "### ./scripts: all addional external function needed for the notebook can be find in scripts. In this case dataio, getData, preProcess, model and postProcess files are included in scripts folder\n",
    "    "
   ]
  },
  {
   "cell_type": "markdown",
   "id": "81cfc3f8",
   "metadata": {},
   "source": [
    "# Run the Code\n",
    "\n",
    "### For reproducing the figures you can run the ./XYZ.ipynb via Jupyter Notebook. Start the server by running jupyter notebook and choose your needed environment."
   ]
  },
  {
   "cell_type": "markdown",
   "id": "0cb87de9",
   "metadata": {},
   "source": [
    "# License\n",
    "\n",
    "### Apache License, Version 2.0"
   ]
  }
 ],
 "metadata": {
  "kernelspec": {
   "display_name": "Python 3",
   "language": "python",
   "name": "python3"
  },
  "language_info": {
   "codemirror_mode": {
    "name": "ipython",
    "version": 3
   },
   "file_extension": ".py",
   "mimetype": "text/x-python",
   "name": "python",
   "nbconvert_exporter": "python",
   "pygments_lexer": "ipython3",
   "version": "3.8.7"
  }
 },
 "nbformat": 4,
 "nbformat_minor": 5
}
