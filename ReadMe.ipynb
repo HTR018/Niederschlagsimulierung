{
 "cells": [
  {
   "cell_type": "markdown",
   "id": "f3f9c541",
   "metadata": {},
   "source": [
    "# Comparison of streamflow modelling of choosen citites between a standard Long Short-Term Memory Network (LSTM) and a combined Convolutional Neuronal Network with Long Short-Term Memory Network (CNNLSTM)\n",
    "\n",
    "### This notebooks reproduces the results related to the abstract \"Vorhersage von Zeitreihen durch Nutzung von Machine Learning-Ansätzen am Beispiel einer Niederschlagabflussmodellierug\"\n",
    "\n",
    "### Polat, Kadir und Salhi, Hamza: \"Vorhersage von Zeitreihen durch Nutzung von Machine Learning-Ansätzen am Beispiel einer Niederschlagabflussmodellierug\""
   ]
  },
  {
   "cell_type": "code",
   "execution_count": null,
   "id": "3a8c44c0",
   "metadata": {},
   "outputs": [],
   "source": []
  }
 ],
 "metadata": {
  "kernelspec": {
   "display_name": "Python 3",
   "language": "python",
   "name": "python3"
  },
  "language_info": {
   "codemirror_mode": {
    "name": "ipython",
    "version": 3
   },
   "file_extension": ".py",
   "mimetype": "text/x-python",
   "name": "python",
   "nbconvert_exporter": "python",
   "pygments_lexer": "ipython3",
   "version": "3.8.7"
  }
 },
 "nbformat": 4,
 "nbformat_minor": 5
}
